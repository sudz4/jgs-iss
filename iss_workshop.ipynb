{
 "cells": [
  {
   "cell_type": "code",
   "execution_count": 22,
   "metadata": {},
   "outputs": [],
   "source": [
    "import requests\n",
    "import time\n",
    "import os\n",
    "import datetime as dt"
   ]
  },
  {
   "cell_type": "code",
   "execution_count": 23,
   "metadata": {},
   "outputs": [],
   "source": [
    "from dotenv import load_dotenv"
   ]
  },
  {
   "cell_type": "code",
   "execution_count": 24,
   "metadata": {},
   "outputs": [
    {
     "data": {
      "text/plain": [
       "True"
      ]
     },
     "execution_count": 24,
     "metadata": {},
     "output_type": "execute_result"
    }
   ],
   "source": [
    "load_dotenv()"
   ]
  },
  {
   "cell_type": "code",
   "execution_count": null,
   "metadata": {},
   "outputs": [],
   "source": [
    "def get_iss_pass_times_n2yo(api_key, lat, lon, alt=0, days=7):\n",
    "    url = f\"https://api.n2yo.com/rest/v1/satellite/visualpasses/25544/{lat}/{lon}/{alt}/{days}/&apiKey={api_key}\"\n",
    "    response = requests.get(url)\n",
    "    \n",
    "    # Check if the response status code is OK (200)\n",
    "    if response.status_code == 200:\n",
    "        try:\n",
    "            data = response.json()\n",
    "            return data['passes']\n",
    "        except ValueError:\n",
    "            raise Exception(\"Error decoding JSON response.\")\n",
    "    else:\n",
    "        raise Exception(f\"API request failed with status code {response.status_code}.\")\n",
    "\n",
    "# Replace 'YOUR_N2YO_API_KEY' with your actual N2YO API key\n",
    "api_key = os.getenv('N2YO_API_KEY')\n",
    "user_lat = 32.7157\n",
    "user_lon = -117.1611\n",
    "\n",
    "try:\n",
    "    # Fetch ISS pass times for the next 7 days\n",
    "    pass_times = get_iss_pass_times_n2yo(api_key, user_lat, user_lon)\n",
    "\n",
    "    # Convert and print the pass times\n",
    "    print(\"Upcoming ISS Passes Over San Diego:\")\n",
    "    for pass_time in pass_times:\n",
    "        risetime = dt.fromtimestamp(pass_time['startUTC'])\n",
    "        duration = pass_time['duration']\n",
    "        print(f\"Date and Time: {risetime}, Duration: {duration} seconds\")\n",
    "\n",
    "    # Store pass times for further use\n",
    "    iss_forecast = [(dt.fromtimestamp(pass_time['startUTC']), pass_time['duration']) for pass_time in pass_times]\n",
    "\n",
    "    # Display the forecast\n",
    "    iss_forecast\n",
    "\n",
    "except Exception as e:\n",
    "    print(e)"
   ]
  },
  {
   "cell_type": "code",
   "execution_count": null,
   "metadata": {},
   "outputs": [],
   "source": []
  },
  {
   "cell_type": "code",
   "execution_count": null,
   "metadata": {},
   "outputs": [],
   "source": []
  },
  {
   "cell_type": "code",
   "execution_count": null,
   "metadata": {},
   "outputs": [],
   "source": []
  },
  {
   "cell_type": "code",
   "execution_count": null,
   "metadata": {},
   "outputs": [],
   "source": []
  },
  {
   "cell_type": "code",
   "execution_count": null,
   "metadata": {},
   "outputs": [],
   "source": []
  },
  {
   "cell_type": "code",
   "execution_count": 13,
   "metadata": {},
   "outputs": [
    {
     "name": "stdout",
     "output_type": "stream",
     "text": [
      "Current ISS Location - Latitude: 19.9308, Longitude: 20.8447\n"
     ]
    }
   ],
   "source": [
    "import requests\n",
    "\n",
    "def get_iss_current_location():\n",
    "    url = \"http://api.open-notify.org/iss-now.json\"\n",
    "    response = requests.get(url)\n",
    "    \n",
    "    if response.status_code == 200:\n",
    "        try:\n",
    "            data = response.json()\n",
    "            if data['message'] == 'success':\n",
    "                return data['iss_position']['latitude'], data['iss_position']['longitude']\n",
    "            else:\n",
    "                raise Exception(\"API returned an error message.\")\n",
    "        except ValueError:\n",
    "            raise Exception(\"Error decoding JSON response.\")\n",
    "    else:\n",
    "        raise Exception(f\"API request failed with status code {response.status_code}.\")\n",
    "\n",
    "try:\n",
    "    lat, lon = get_iss_current_location()\n",
    "    print(f\"Current ISS Location - Latitude: {lat}, Longitude: {lon}\")\n",
    "except Exception as e:\n",
    "    print(e)\n"
   ]
  },
  {
   "cell_type": "code",
   "execution_count": 15,
   "metadata": {},
   "outputs": [
    {
     "name": "stdout",
     "output_type": "stream",
     "text": [
      "Current ISS Location - Latitude: 16.748884155322, Longitude: 23.544789720501\n"
     ]
    }
   ],
   "source": [
    "import requests\n",
    "from datetime import datetime\n",
    "\n",
    "def get_iss_current_location():\n",
    "    url = \"https://api.wheretheiss.at/v1/satellites/25544\"\n",
    "    response = requests.get(url)\n",
    "    \n",
    "    # Check if the response status code is OK (200)\n",
    "    if response.status_code == 200:\n",
    "        try:\n",
    "            data = response.json()\n",
    "            return data['latitude'], data['longitude']\n",
    "        except ValueError:\n",
    "            raise Exception(\"Error decoding JSON response.\")\n",
    "    else:\n",
    "        raise Exception(f\"API request failed with status code {response.status_code}.\")\n",
    "\n",
    "# Fetch and print the current location of the ISS\n",
    "try:\n",
    "    iss_lat, iss_lon = get_iss_current_location()\n",
    "    print(f\"Current ISS Location - Latitude: {iss_lat}, Longitude: {iss_lon}\")\n",
    "except Exception as e:\n",
    "    print(e)\n"
   ]
  },
  {
   "cell_type": "code",
   "execution_count": null,
   "metadata": {},
   "outputs": [],
   "source": [
    "# import requests\n",
    "\n",
    "# def get_iss_data_from_nasa(api_key):\n",
    "#     url = f\"https://api.nasa.gov/planetary/earth/assets?lon=-117.1611&lat=32.7157&date=2024-07-03&dim=0.10&api_key={api_key}\"\n",
    "#     response = requests.get(url)\n",
    "    \n",
    "#     if response.status_code == 200:\n",
    "#         try:\n",
    "#             data = response.json()\n",
    "#             return data\n",
    "#         except ValueError:\n",
    "#             raise Exception(\"Error decoding JSON response.\")\n",
    "#     else:\n",
    "#         raise Exception(f\"API request failed with status code {response.status_code}.\")\n",
    "\n",
    "# # Replace 'YOUR_NASA_API_KEY' with your actual NASA API key\n",
    "# api_key = 'YOUR_NASA_API_KEY'\n",
    "\n",
    "# try:\n",
    "#     iss_data = get_iss_data_from_nasa(api_key)\n",
    "#     print(iss_data)\n",
    "# except Exception as e:\n",
    "#     print(e)\n"
   ]
  }
 ],
 "metadata": {
  "kernelspec": {
   "display_name": "iss_venv",
   "language": "python",
   "name": "python3"
  },
  "language_info": {
   "codemirror_mode": {
    "name": "ipython",
    "version": 3
   },
   "file_extension": ".py",
   "mimetype": "text/x-python",
   "name": "python",
   "nbconvert_exporter": "python",
   "pygments_lexer": "ipython3",
   "version": "3.11.1"
  }
 },
 "nbformat": 4,
 "nbformat_minor": 2
}
